{
 "cells": [
  {
   "cell_type": "markdown",
   "metadata": {},
   "source": [
    "# Random Madlibs Generator"
   ]
  },
  {
   "cell_type": "markdown",
   "metadata": {},
   "source": [
    "## Libraries"
   ]
  },
  {
   "cell_type": "code",
   "execution_count": 4,
   "metadata": {},
   "outputs": [],
   "source": [
    "from random import choice as rd"
   ]
  },
  {
   "cell_type": "markdown",
   "metadata": {},
   "source": [
    "## Inputs"
   ]
  },
  {
   "cell_type": "code",
   "execution_count": 54,
   "metadata": {},
   "outputs": [],
   "source": [
    "# loading all words to compose with the text\n",
    "adj = open('bag_of_words/adjectives.txt', 'r').read().split()\n",
    "body = open('bag_of_words/bodies.txt', 'r').read().split()\n",
    "pl_noun = open('bag_of_words/plural_nouns.txt', 'r').read().replace(',', '').split()\n",
    "sg_noun = open('bag_of_words/sg_nouns.txt', 'r').read().split()\n",
    "verb = open('bag_of_words/verbs.txt', 'r').read().split()\n",
    "\n",
    "# creating a \"bag of words\" as \"bw\" to be used into the text\n",
    "bw = {\n",
    "    'adj': adj, 'body': body, 'pl_noun': pl_noun, 'sg_noun': sg_noun, 'verb': verb\n",
    "    }"
   ]
  },
  {
   "cell_type": "markdown",
   "metadata": {},
   "source": [
    "## Text Corp"
   ]
  },
  {
   "cell_type": "code",
   "execution_count": 55,
   "metadata": {},
   "outputs": [],
   "source": [
    "madlibs_text = f\"\"\"I love data science because it's {rd(bw['adj'])}! The journey to becoming a \\\n",
    "good data scientist starts with hope in your mind and a dream in your {rd(bw['body'])}. Through blood, \\\n",
    "sweat, and {rd(bw['pl_noun'])}, hopefully it never ends. Yes, once you learn to {rd(bw['verb'])}, it becomes \\\n",
    "a part of your life identity and you can become a super {rd(bw['adj'])} data professional. Knowledge of statistics \\\n",
    "lets you take control of your {rd(bw['sg_noun'])}. You can create your own personal {rd(bw['pl_noun'])}, anything \\\n",
    "from developing {rd(bw['adj'])} data solutions to analyzing data and making predictions about the {rd(bw['sg_noun'])}. You can \\\n",
    "maybe even recreate currency prediction or profit prediction and make him extra {rd(bw['adj'])}. I hope you'll start your {rd(bw['adj'])} journey by \\\n",
    "coding studying statistics, SQL and python with me :)\"\"\""
   ]
  },
  {
   "cell_type": "markdown",
   "metadata": {},
   "source": [
    "## Outputs"
   ]
  },
  {
   "cell_type": "code",
   "execution_count": 63,
   "metadata": {},
   "outputs": [],
   "source": [
    "# saving at local disc\n",
    "with open('madlibs_text.txt', 'w') as file:\n",
    "    file.write(madlibs_text)"
   ]
  },
  {
   "cell_type": "code",
   "execution_count": 64,
   "metadata": {},
   "outputs": [
    {
     "data": {
      "text/plain": [
       "\"I love data science because it's best! The journey to becoming a good data scientist starts with hope in your mind and a dream in your Toenail. Through blood, sweat, and binoculars, hopefully it never ends. Yes, once you learn to look, it becomes a part of your life identity and you can become a super best data professional. Knowledge of statistics lets you take control of your book. You can create your own personal clothes, anything from developing sure data solutions to analyzing data and making predictions about the problem. You can maybe even recreate currency prediction or profit prediction and make him extra special. I hope you'll start your important journey by coding studying statistics, SQL and python with me :)\""
      ]
     },
     "execution_count": 64,
     "metadata": {},
     "output_type": "execute_result"
    }
   ],
   "source": [
    "# reading\n",
    "open('madlibs_text.txt', 'r').read()"
   ]
  }
 ],
 "metadata": {
  "interpreter": {
   "hash": "678194bbc3400e6d39b7bede41c1f4f983d118b24d6efda506e48f01f4c6d03e"
  },
  "kernelspec": {
   "display_name": "Python 3.10.4 ('.venv': venv)",
   "language": "python",
   "name": "python3"
  },
  "language_info": {
   "codemirror_mode": {
    "name": "ipython",
    "version": 3
   },
   "file_extension": ".py",
   "mimetype": "text/x-python",
   "name": "python",
   "nbconvert_exporter": "python",
   "pygments_lexer": "ipython3",
   "version": "3.10.4"
  },
  "orig_nbformat": 4
 },
 "nbformat": 4,
 "nbformat_minor": 2
}
